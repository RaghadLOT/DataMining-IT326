{
  "metadata": {
    "kernelspec": {
      "name": "python",
      "display_name": "Python (Pyodide)",
      "language": "python"
    },
    "language_info": {
      "codemirror_mode": {
        "name": "python",
        "version": 3
      },
      "file_extension": ".py",
      "mimetype": "text/x-python",
      "name": "python",
      "nbconvert_exporter": "python",
      "pygments_lexer": "ipython3",
      "version": "3.8"
    }
  },
  "nbformat_minor": 4,
  "nbformat": 4,
  "cells": [
    {
      "cell_type": "markdown",
      "source": "## Goal\nIn our project we will use one data mining task to help us predict the possibility of having cardiovascular diseases which is classification. We will train our model to be able to classify if the patient has cardiovascular diseases or not using (cardio) class based on a set of medical examinations like diastolic blood pressure, Systolic blood pressure, height, weight etc.\n\n## Source:\n[Link text](https://www.kaggle.com/datasets/sulianova/cardiovascular-disease-dataset?resource=download&select=cardio_train.csv)\n\n## General information abour our dataset:\n\nNo. of obj: 500\n\nClass name: cardio\n\n- ID: numerical value, it identifies the participants \n- Age: numerical value, it identifies the participant’s age\n- Gender: Binary value, (1) for female (2) for male\n- Height: numerical value, identifies the height of the participant in cm\n- Weight: numerical value, identifies the weight of the participant in kg\n- ap_hi: numerical value (interval), it represents the systolic blood pressure \n- ap_lo: numerical value(interval), it represents the diastolic blood pressure\n- Cholesterol: ordinal value, (1) Normal, (2) above normal, (3) well above normal \n- Gluc: ordinal value, (1) Normal, (2) above normal, (3) well above normal\n- Smoke: Binary value(asy), (1) yes, (0) no\n- Alco: Binary value(asy), (1) yes, (0) no\n- Active: Binary value(asy), (1) yes, (0) no\n- Cardio: Binary value(asy), (1) yes, (0) no",
      "metadata": {}
    },
    {
      "cell_type": "code",
      "source": "import pandas as pd\nfrom sklearn.datasets import load_iris\niris=load_iris()\niris_df = pd.DataFrame(data=iris.data, columns = iris.feature_names)\ndf = pd.read_csv('cardio_train.csv')\ndf.describe()",
      "metadata": {
        "trusted": true
      },
      "outputs": [
        {
          "execution_count": 7,
          "output_type": "execute_result",
          "data": {
            "text/plain": "                 id           age        gender        height        weight  \\\ncount  70000.000000  70000.000000  70000.000000  70000.000000  70000.000000   \nmean   49972.419900  19468.865814      1.349571    164.359229     74.205690   \nstd    28851.302323   2467.251667      0.476838      8.210126     14.395757   \nmin        0.000000  10798.000000      1.000000     55.000000     10.000000   \n25%    25006.750000  17664.000000      1.000000    159.000000     65.000000   \n50%    50001.500000  19703.000000      1.000000    165.000000     72.000000   \n75%    74889.250000  21327.000000      2.000000    170.000000     82.000000   \nmax    99999.000000  23713.000000      2.000000    250.000000    200.000000   \n\n              ap_hi         ap_lo   cholesterol          gluc         smoke  \\\ncount  70000.000000  70000.000000  70000.000000  70000.000000  70000.000000   \nmean     128.817286     96.630414      1.366871      1.226457      0.088129   \nstd      154.011419    188.472530      0.680250      0.572270      0.283484   \nmin     -150.000000    -70.000000      1.000000      1.000000      0.000000   \n25%      120.000000     80.000000      1.000000      1.000000      0.000000   \n50%      120.000000     80.000000      1.000000      1.000000      0.000000   \n75%      140.000000     90.000000      2.000000      1.000000      0.000000   \nmax    16020.000000  11000.000000      3.000000      3.000000      1.000000   \n\n               alco        active        cardio  \ncount  70000.000000  70000.000000  70000.000000  \nmean       0.053771      0.803729      0.499700  \nstd        0.225568      0.397179      0.500003  \nmin        0.000000      0.000000      0.000000  \n25%        0.000000      1.000000      0.000000  \n50%        0.000000      1.000000      0.000000  \n75%        0.000000      1.000000      1.000000  \nmax        1.000000      1.000000      1.000000  ",
            "text/html": "<div>\n<style scoped>\n    .dataframe tbody tr th:only-of-type {\n        vertical-align: middle;\n    }\n\n    .dataframe tbody tr th {\n        vertical-align: top;\n    }\n\n    .dataframe thead th {\n        text-align: right;\n    }\n</style>\n<table border=\"1\" class=\"dataframe\">\n  <thead>\n    <tr style=\"text-align: right;\">\n      <th></th>\n      <th>id</th>\n      <th>age</th>\n      <th>gender</th>\n      <th>height</th>\n      <th>weight</th>\n      <th>ap_hi</th>\n      <th>ap_lo</th>\n      <th>cholesterol</th>\n      <th>gluc</th>\n      <th>smoke</th>\n      <th>alco</th>\n      <th>active</th>\n      <th>cardio</th>\n    </tr>\n  </thead>\n  <tbody>\n    <tr>\n      <th>count</th>\n      <td>70000.000000</td>\n      <td>70000.000000</td>\n      <td>70000.000000</td>\n      <td>70000.000000</td>\n      <td>70000.000000</td>\n      <td>70000.000000</td>\n      <td>70000.000000</td>\n      <td>70000.000000</td>\n      <td>70000.000000</td>\n      <td>70000.000000</td>\n      <td>70000.000000</td>\n      <td>70000.000000</td>\n      <td>70000.000000</td>\n    </tr>\n    <tr>\n      <th>mean</th>\n      <td>49972.419900</td>\n      <td>19468.865814</td>\n      <td>1.349571</td>\n      <td>164.359229</td>\n      <td>74.205690</td>\n      <td>128.817286</td>\n      <td>96.630414</td>\n      <td>1.366871</td>\n      <td>1.226457</td>\n      <td>0.088129</td>\n      <td>0.053771</td>\n      <td>0.803729</td>\n      <td>0.499700</td>\n    </tr>\n    <tr>\n      <th>std</th>\n      <td>28851.302323</td>\n      <td>2467.251667</td>\n      <td>0.476838</td>\n      <td>8.210126</td>\n      <td>14.395757</td>\n      <td>154.011419</td>\n      <td>188.472530</td>\n      <td>0.680250</td>\n      <td>0.572270</td>\n      <td>0.283484</td>\n      <td>0.225568</td>\n      <td>0.397179</td>\n      <td>0.500003</td>\n    </tr>\n    <tr>\n      <th>min</th>\n      <td>0.000000</td>\n      <td>10798.000000</td>\n      <td>1.000000</td>\n      <td>55.000000</td>\n      <td>10.000000</td>\n      <td>-150.000000</td>\n      <td>-70.000000</td>\n      <td>1.000000</td>\n      <td>1.000000</td>\n      <td>0.000000</td>\n      <td>0.000000</td>\n      <td>0.000000</td>\n      <td>0.000000</td>\n    </tr>\n    <tr>\n      <th>25%</th>\n      <td>25006.750000</td>\n      <td>17664.000000</td>\n      <td>1.000000</td>\n      <td>159.000000</td>\n      <td>65.000000</td>\n      <td>120.000000</td>\n      <td>80.000000</td>\n      <td>1.000000</td>\n      <td>1.000000</td>\n      <td>0.000000</td>\n      <td>0.000000</td>\n      <td>1.000000</td>\n      <td>0.000000</td>\n    </tr>\n    <tr>\n      <th>50%</th>\n      <td>50001.500000</td>\n      <td>19703.000000</td>\n      <td>1.000000</td>\n      <td>165.000000</td>\n      <td>72.000000</td>\n      <td>120.000000</td>\n      <td>80.000000</td>\n      <td>1.000000</td>\n      <td>1.000000</td>\n      <td>0.000000</td>\n      <td>0.000000</td>\n      <td>1.000000</td>\n      <td>0.000000</td>\n    </tr>\n    <tr>\n      <th>75%</th>\n      <td>74889.250000</td>\n      <td>21327.000000</td>\n      <td>2.000000</td>\n      <td>170.000000</td>\n      <td>82.000000</td>\n      <td>140.000000</td>\n      <td>90.000000</td>\n      <td>2.000000</td>\n      <td>1.000000</td>\n      <td>0.000000</td>\n      <td>0.000000</td>\n      <td>1.000000</td>\n      <td>1.000000</td>\n    </tr>\n    <tr>\n      <th>max</th>\n      <td>99999.000000</td>\n      <td>23713.000000</td>\n      <td>2.000000</td>\n      <td>250.000000</td>\n      <td>200.000000</td>\n      <td>16020.000000</td>\n      <td>11000.000000</td>\n      <td>3.000000</td>\n      <td>3.000000</td>\n      <td>1.000000</td>\n      <td>1.000000</td>\n      <td>1.000000</td>\n      <td>1.000000</td>\n    </tr>\n  </tbody>\n</table>\n</div>"
          },
          "metadata": {}
        }
      ],
      "execution_count": 7
    }
  ]
}